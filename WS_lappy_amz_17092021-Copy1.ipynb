{
 "cells": [
  {
   "cell_type": "markdown",
   "metadata": {},
   "source": [
    "### This python program is used to track the price fluctuation  of a particular product in amazon website."
   ]
  },
  {
   "cell_type": "code",
   "execution_count": 1,
   "metadata": {},
   "outputs": [],
   "source": [
    "import requests #ver:2.24.0 \n",
    "from bs4 import BeautifulSoup #ver:4.9.1 \n",
    "import smtplib\n",
    "import csv\n",
    "import datetime\n",
    "import os"
   ]
  },
  {
   "cell_type": "code",
   "execution_count": 2,
   "metadata": {},
   "outputs": [],
   "source": [
    "url = 'https://www.amazon.in/HP-Processor-Windows-Natural-14s-dq2535TU/dp/B0928NL6F3/ref=sr_1_3?crid=TDQZ7CVY7YP0&dchild=1&keywords=hp+14+2021+11th+gen+intel+core+i5+laptop&qid=1635607127&sprefix=hp+14+2021+11th+gen+intel+core+i5+laptop%2Caps%2C273&sr=8-3'"
   ]
  },
  {
   "cell_type": "code",
   "execution_count": 3,
   "metadata": {},
   "outputs": [
    {
     "name": "stdout",
     "output_type": "stream",
     "text": [
      "product_title-------> HP 14 11th Gen Intel Core i5 Processor 14 inches HD Laptop, 8GB/512GB SSD/Windows 10/MS Office (Natural Silver/1.46Kg), 14s-dq2535TU\n",
      "Amazon has updated the span id , this won't work\n",
      "\n",
      " Today's price is------> 57490.0\n",
      "\n",
      " ***** Wrote data in to file on ***** 2021-11-30 10:51:45.164505\n",
      "***** I need to wait for few more days ***** \n",
      "\n"
     ]
    }
   ],
   "source": [
    "#google 'my user agent'\n",
    "#my user agent = Mozilla/5.0 (Windows NT 6.1; Win64; x64) AppleWebKit/537.36 (KHTML, like Gecko) Chrome/95.0.4638.69 Safari/537.36\n",
    "\n",
    "headers = {'User-Agent': 'Mozilla/5.0 (Windows NT 6.1; Win64; x64) AppleWebKit/537.36 (KHTML, like Gecko) Chrome/95.0.4638.69 Safari/537.36'}\n",
    "\n",
    "def check_lappy_price():\n",
    "\n",
    "    page = requests.get(url, headers=headers)\n",
    "\n",
    "    bs = BeautifulSoup(page.content, 'html5lib')\n",
    "    #print(bs.prettify().encode(\"utf-8\"), \"\\n\")\n",
    "    \n",
    "    \n",
    "    product_title = bs.find(id = \"productTitle\").get_text()\n",
    "    print(\"product_title------->\",product_title.strip())\n",
    "\n",
    "    try:\n",
    "        price = bs.find(id = \"priceblock_ourprice\").get_text()\n",
    "    except:\n",
    "        print(\"Amazon has updated the span id , this won't work\")\n",
    "                \n",
    "    try:\n",
    "        price = bs.find(id = \"priceblock_dealprice\").get_text()\n",
    "    except:\n",
    "        print(\"Amazon has updated the span id, this id won't work\")\n",
    "        \n",
    "    \n",
    "    #id=priceblock_ourprice or id=priceblock_dealprice, \n",
    "    #note: id keeps changing based on offer\n",
    "    #print(price)\n",
    "    \n",
    "    \n",
    "    price = price[1:7]\n",
    "\n",
    "    price_float =  float(price.replace(\",\",\"\"))\n",
    "    print(\"\\n Today's price is------>\",price_float)\n",
    "    file_exist = True\n",
    "\n",
    "    if not os.path.exists(\"./lappy_price.csv\"):\n",
    "        file_exist = False\n",
    "        \n",
    "    with open(\"lappy_price.csv\",\"a\") as file:\n",
    "            writer = csv.writer(file, lineterminator='\\n')\n",
    "            #fields = [\"Timestamp\", \"Price\"]\n",
    "            #writer.writerow(fields)\n",
    "            \n",
    "            if not file_exist:\n",
    "                write.writerow(fields)\n",
    "            \n",
    "            timestamp = f\"{datetime.datetime.date(datetime.datetime.now())}, {datetime.datetime.time(datetime.datetime.now())}\"\n",
    "            # info on new 'f' string: https://realpython.com/python-f-strings/\n",
    "            writer.writerow([timestamp, price_float])\n",
    "            \n",
    "            print(\"\\n ***** Wrote data in to file on *****\",datetime.datetime.now())\n",
    "    \n",
    "    return price_float\n",
    "\n",
    "\n",
    "\n",
    "while True:\n",
    "    \n",
    "    price = check_lappy_price()\n",
    "    if(price < 50000):\n",
    "        #send_email() current;y this feature on HOLD\n",
    "        print(\"Laptop now is under my 50k budget \\n\")\n",
    "        break\n",
    "    else:\n",
    "        print(\"***** I need to wait for few more days ***** \\n\")\n",
    "        break\n",
    "    time.sleep(10)    \n",
    "    "
   ]
  },
  {
   "cell_type": "code",
   "execution_count": 4,
   "metadata": {},
   "outputs": [
    {
     "name": "stdout",
     "output_type": "stream",
     "text": [
      "type of the df is :  <class 'pandas.core.frame.DataFrame'>\n",
      "content of the sheet: \n",
      "                       Timestamp    Price\n",
      "0   10/30/2021, 12:23:59.223450  54940.0\n",
      "1   10/31/2021, 12:12:12.121212  54940.0\n",
      "2   2021-11-01, 13:24:51.597446  55000.0\n",
      "3   2021-11-03, 13:30:10.203454  57990.0\n",
      "4   2021-11-04, 04:04:04.040404  57990.0\n",
      "5   2021-11-05, 10:47:50.497618  57990.0\n",
      "6   2021-11-06, 11:40:33.982913  57990.0\n",
      "7   2021-11-07, 07:07:07.070707  57990.0\n",
      "8   2021-11-08, 12:28:56.705940  54990.0\n",
      "9   2021-11-09, 17:20:15.064832  54990.0\n",
      "10  2021-11-10, 09:47:02.845997  56490.0\n",
      "11  2021-11-10, 09:49:19.526224  56490.0\n",
      "12  2021-11-10, 09:52:02.551694  56490.0\n",
      "13  2021-11-10, 09:52:41.884758  56490.0\n",
      "14  2021-11-11, 15:18:45.799370  56490.0\n",
      "15  2021-11-12, 12:12:12.121212  56490.0\n",
      "16  2021-11-13, 13:18:14.738533  56490.0\n",
      "17  2021-11-13, 20:06:27.915166  56490.0\n",
      "18  2021-11-14, 15:59:36.801895  56490.0\n",
      "19  2021-11-14, 16:01:41.941507  56490.0\n",
      "20  2021-11-14, 23:50:08.715145  56490.0\n",
      "21  2021-11-14, 23:51:15.743855  56490.0\n",
      "22  2021-11-15, 09:11:28.453904  56490.0\n",
      "23  2021-11-16, 12:12:12.121212  56490.0\n",
      "24  2021-11-17, 11:46:16.705282  56490.0\n",
      "25  2021-11-18, 18:18:18.181818  56490.0\n",
      "26  2021-11-19, 23:34:34.902013  56457.0\n",
      "27  2021-11-20, 20:20:20.202020  56457.0\n",
      "28  2021-11-21, 19:24:32.129135  56457.0\n",
      "29  2021-11-22, 12:55:23.656518  56357.0\n",
      "30  2021-11-22, 12:56:37.915939  56357.0\n",
      "31  2021-11-22, 12:57:52.881469  56357.0\n",
      "32  2021-11-22, 12:58:27.336757  56357.0\n",
      "33  2021-11-22, 14:21:24.974493  56357.0\n",
      "34  2021-11-22, 14:24:40.134770  56357.0\n",
      "35  2021-11-23, 08:53:57.065582  56357.0\n",
      "36  2021-11-23, 09:23:13.548033  56357.0\n",
      "37  2021-11-24, 08:53:23.035748  57490.0\n",
      "38  2021-11-24, 18:39:33.558651  57490.0\n",
      "39  2021-11-24, 18:40:21.454103  57490.0\n",
      "40  2021-11-25, 08:27:44.599039  57490.0\n",
      "41  2021-11-26, 08:42:07.228238  57490.0\n",
      "42  2021-11-26, 18:13:21.119327  57490.0\n",
      "43  2021-11-26, 19:06:09.350451  57490.0\n",
      "44  2021-11-26, 19:07:28.855562  57490.0\n",
      "45  2021-11-26, 21:55:27.184119  57490.0\n",
      "46  2021-11-27, 10:07:14.019835  57490.0\n",
      "47  2021-11-28, 09:09:09.090909  57490.0\n",
      "48  2021-11-29, 09:14:09.250662  57490.0\n",
      "49  2021-11-30, 10:51:45.164505  57490.0\n"
     ]
    },
    {
     "data": {
      "image/png": "[encoded data removed]",
      "text/plain": [
       "<Figure size 432x288 with 1 Axes>"
      ]
     },
     "metadata": {
      "needs_background": "light"
     },
     "output_type": "display_data"
    }
   ],
   "source": [
    "import matplotlib.pyplot as plt\n",
    "import pandas as pd\n",
    "#from IPython .display import clear_output\n",
    "\n",
    "df = pd.read_csv(\"lappy_price.csv\")\n",
    "print(\"type of the df is : \", type(df)) #file type is Dataframe\n",
    "\n",
    "df.drop_duplicates(subset = ['Timestamp'])\n",
    "print(\"content of the sheet: \\n\", df)\n",
    "\n",
    "x = df['Timestamp']\n",
    "y = df['Price']\n",
    "\n",
    "df.plot()\n",
    "#plt.xticks(rotation=90)\n",
    "#plt.xaxis_xdate()\n",
    "#plt.autofmt_xdate()\n",
    "\n",
    "plt.show()\n"
   ]
  },
  {
   "cell_type": "raw",
   "metadata": {},
   "source": [
    "#### Below code is for writing and sending the mail when prodcut price falls in user's budget \n",
    "\n",
    "def send_email():\n",
    "    server = smtplib.SMTP(\"smtp.valid.com\",587)\n",
    "    server.ehlo()\n",
    "    server.starttls()\n",
    "    server.ehlo()\n",
    "    \n",
    "    server.login('valid@valid.com', '~*~*~*~*~*')\n",
    "    \n",
    "    subject = \"It's Me! laptop price reduced below 50,000\"\n",
    "    body = \"click the link to check out the price \\n link: https://www.amazon.in/HP-Processor-Windows-Natural-14s-dq2535TU/dp/B0928NL6F3/ref=sr_1_3?crid=TDQZ7CVY7YP0&dchild=1&keywords=hp+14+2021+11th+gen+intel+core+i5+laptop&qid=1635607127&sprefix=hp+14+2021+11th+gen+intel+core+i5+laptop%2Caps%2C273&sr=8-3\"\n",
    "    msg = f\"Subject: {subject}\\n\\n\\n{body}\"\n",
    "    \n",
    "    server.sendmail('valid@valid.com','valid@valid.com',msg)\n",
    "    print(\"***** email sent *****\")\n",
    "    server.quit()"
   ]
  },
  {
   "cell_type": "code",
   "execution_count": null,
   "metadata": {},
   "outputs": [],
   "source": []
  },
  {
   "cell_type": "code",
   "execution_count": null,
   "metadata": {},
   "outputs": [],
   "source": []
  },
  {
   "cell_type": "raw",
   "metadata": {},
   "source": [
    "from autoscraper import AutoScraper"
   ]
  },
  {
   "cell_type": "raw",
   "metadata": {},
   "source": [
    "amz_url = 'https://www.amazon.in/gp/product/B08XNZD56X/ref=ox_sc_act_title_1?smid=A14CZOWI0VEHLG&th=1'\n",
    "wanted_lst = [\"₹55,990 \",\"HP 14 11th Gen Intel Core i5 Processor 14 inches HD Laptop, 8GB/512GB SSD/Windows 10/MS Office (Natural Silver/1.46Kg), 14s-dq2535TU\"]"
   ]
  },
  {
   "cell_type": "raw",
   "metadata": {},
   "source": [
    "scraper = AutoScraper()\n",
    "result = scraper.build(amz_url,wanted_lst)\n",
    "\n",
    "print(type(result))\n",
    "print(len(result))\n",
    "\n",
    "print(result)"
   ]
  },
  {
   "cell_type": "raw",
   "metadata": {},
   "source": [
    "result[0]"
   ]
  },
  {
   "cell_type": "raw",
   "metadata": {},
   "source": [
    "import pandas as pd\n",
    "\n",
    "result = scraper.get_result_similar(amz_url,grouped=True)\n",
    "print(result)\n",
    "\n",
    "df = pd.DataFrame(result)\n",
    "print(df)\n",
    "\n",
    "result.keys() #o/p: dict_keys(['rule_dhzi', 'rule_607g', 'rule_m23i'])\n",
    "res_len = len(result.keys())\n",
    "#result.items())\n",
    "\n",
    "#type(result.keys()) #o/p: dict_keys\n",
    "#first_key = list(result.items())[1][0]\n",
    "#print(first_key)\n",
    "\n",
    "#list(result.items())\n",
    "\n",
    "#j = 0\n",
    "#for i in result:\n",
    "#    if(j == 0, j <= res_len):\n",
    "#        print(' key are : ' + i)\n",
    "#        print(\"values are: \" + result.values())\n",
    "#        j = j + 1\n"
   ]
  },
  {
   "cell_type": "raw",
   "metadata": {},
   "source": [
    "#### Part of the code which doesnt work on ecommerce Amz/FK anymore\n",
    "import bs4\n",
    "import urllib.request\n",
    "\n",
    "\n",
    "url = 'https://www.amazon.in/s?rh=n%3A1375424031&fs=true&ref=lp_1375424031_sar'\n",
    "\n",
    "lappy = urllib.request.urlopen(url).read()\n",
    "soup = bs4.BeautifulSoup(lappy, \"html.parser\")\n",
    "print(soup.prettify())\n",
    "\n",
    "page = requests.get('https://www.amazon.in/HP-Processor-15-6-inch-Graphics-15s-dr3500TX/dp/B0928T6QM3/ref=sr_1_2_sspa?dchild=1&keywords=laptop&qid=1631862103&refinements=p_89%3ADell%7CHP%7CLenovo%2Cp_n_feature_thirteen_browse-bin%3A12598162031%2Cp_n_feature_browse-bin%3A1485945031%2Cp_n_feature_fourteen_browse-bin%3A2917526031%7C2917527031&rnid=7252027031&s=computers&sr=1-2-spons&psc=1&spLa=ZW5jcnlwdGVkUXVhbGlmaWVyPUEyQkU3VEI1V0dSSEFDJmVuY3J5cHRlZElkPUEwNTU2MTIxQzdVMFlWUzVSWUk5JmVuY3J5cHRlZEFkSWQ9QTAzMTE5NjkxVldUSUNQNkVFVzRNJndpZGdldE5hbWU9c3BfYXRmJmFjdGlvbj1jbGlja1JlZGlyZWN0JmRvTm90TG9nQ2xpY2s9dHJ1ZQ==')\n",
    "html_content = page.text\n",
    "\n",
    "print(html_content)\n"
   ]
  },
  {
   "cell_type": "code",
   "execution_count": null,
   "metadata": {},
   "outputs": [],
   "source": []
  }
 ],
 "metadata": {
  "kernelspec": {
   "display_name": "Python 3",
   "language": "python",
   "name": "python3"
  },
  "language_info": {
   "codemirror_mode": {
    "name": "ipython",
    "version": 3
   },
   "file_extension": ".py",
   "mimetype": "text/x-python",
   "name": "python",
   "nbconvert_exporter": "python",
   "pygments_lexer": "ipython3",
   "version": "3.8.3"
  }
 },
 "nbformat": 4,
 "nbformat_minor": 4
}
