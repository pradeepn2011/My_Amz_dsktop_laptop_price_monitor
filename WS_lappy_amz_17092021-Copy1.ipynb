{
 "cells": [
  {
   "cell_type": "markdown",
   "metadata": {},
   "source": [
    "### This python program is used to track the price fluctuation  of a particular product in amazon website."
   ]
  },
  {
   "cell_type": "code",
   "execution_count": 1,
   "metadata": {},
   "outputs": [],
   "source": [
    "import requests #ver:2.24.0 \n",
    "from bs4 import BeautifulSoup #ver:4.9.1 \n",
    "import smtplib\n",
    "import csv\n",
    "import datetime\n",
    "import os"
   ]
  },
  {
   "cell_type": "code",
   "execution_count": 2,
   "metadata": {},
   "outputs": [],
   "source": [
    "url = 'https://www.amazon.in/HP-Processor-Windows-Natural-14s-dq2535TU/dp/B0928NL6F3/ref=sr_1_3?crid=TDQZ7CVY7YP0&dchild=1&keywords=hp+14+2021+11th+gen+intel+core+i5+laptop&qid=1635607127&sprefix=hp+14+2021+11th+gen+intel+core+i5+laptop%2Caps%2C273&sr=8-3'"
   ]
  },
  {
   "cell_type": "code",
   "execution_count": 3,
   "metadata": {},
   "outputs": [
    {
     "name": "stdout",
     "output_type": "stream",
     "text": [
      "product_title-------> HP 14 11th Gen Intel Core i5 Processor 14 inches HD Laptop, 8GB/512GB SSD/Windows 10/MS Office (Natural Silver/1.46Kg), 14s-dq2535TU\n",
      "Amazon has updated the span id , this won't work\n",
      "\n",
      " Today's price is------> 56990.0\n",
      "\n",
      " ***** Wrote data in to file on ***** 2021-12-04 12:10:58.814560\n",
      "***** I need to wait for few more days ***** \n",
      "\n"
     ]
    }
   ],
   "source": [
    "#google 'my user agent'\n",
    "#my user agent = Mozilla/5.0 (Windows NT 6.1; Win64; x64) AppleWebKit/537.36 (KHTML, like Gecko) Chrome/95.0.4638.69 Safari/537.36\n",
    "\n",
    "headers = {'User-Agent': 'Mozilla/5.0 (Windows NT 6.1; Win64; x64) AppleWebKit/537.36 (KHTML, like Gecko) Chrome/95.0.4638.69 Safari/537.36'}\n",
    "\n",
    "def check_lappy_price():\n",
    "\n",
    "    page = requests.get(url, headers=headers)\n",
    "\n",
    "    bs = BeautifulSoup(page.content, 'html5lib')\n",
    "    #print(bs.prettify().encode(\"utf-8\"), \"\\n\")\n",
    "    \n",
    "    \n",
    "    product_title = bs.find(id = \"productTitle\").get_text()\n",
    "    print(\"product_title------->\",product_title.strip())\n",
    "\n",
    "    try:\n",
    "        price = bs.find(id = \"priceblock_ourprice\").get_text()\n",
    "    except:\n",
    "        print(\"Amazon has updated the span id , this won't work\")\n",
    "                \n",
    "    try:\n",
    "        price = bs.find(id = \"priceblock_dealprice\").get_text()\n",
    "    except:\n",
    "        print(\"Amazon has updated the span id, this id won't work\")\n",
    "        \n",
    "    \n",
    "    #id=priceblock_ourprice or id=priceblock_dealprice, \n",
    "    #note: id keeps changing based on offer\n",
    "    #print(price)\n",
    "    \n",
    "    \n",
    "    price = price[1:7]\n",
    "\n",
    "    price_float =  float(price.replace(\",\",\"\"))\n",
    "    print(\"\\n Today's price is------>\",price_float)\n",
    "    file_exist = True\n",
    "\n",
    "    if not os.path.exists(\"./lappy_price.csv\"):\n",
    "        file_exist = False\n",
    "        \n",
    "    with open(\"lappy_price.csv\",\"a\") as file:\n",
    "            writer = csv.writer(file, lineterminator='\\n')\n",
    "            #fields = [\"Timestamp\", \"Price\"]\n",
    "            #writer.writerow(fields)\n",
    "            \n",
    "            if not file_exist:\n",
    "                write.writerow(fields)\n",
    "            \n",
    "            timestamp = f\"{datetime.datetime.date(datetime.datetime.now())}, {datetime.datetime.time(datetime.datetime.now())}\"\n",
    "            # info on new 'f' string: https://realpython.com/python-f-strings/\n",
    "            writer.writerow([timestamp, price_float])\n",
    "            \n",
    "            print(\"\\n ***** Wrote data in to file on *****\",datetime.datetime.now())\n",
    "    \n",
    "    return price_float\n",
    "\n",
    "\n",
    "\n",
    "while True:\n",
    "    \n",
    "    price = check_lappy_price()\n",
    "    if(price < 50000):\n",
    "        #send_email() current;y this feature on HOLD\n",
    "        print(\"Laptop now is under my 50k budget \\n\")\n",
    "        break\n",
    "    else:\n",
    "        print(\"***** I need to wait for few more days ***** \\n\")\n",
    "        break\n",
    "    time.sleep(10)    \n",
    "    "
   ]
  },
  {
   "cell_type": "code",
   "execution_count": 4,
   "metadata": {},
   "outputs": [
    {
     "name": "stdout",
     "output_type": "stream",
     "text": [
      "type of the df is :  <class 'pandas.core.frame.DataFrame'>\n",
      "content of the sheet: \n",
      "                       Timestamp    Price\n",
      "49  2021-11-30, 10:51:45.164505  57490.0\n",
      "50  2021-12-01, 11:16:02.335101  56990.0\n",
      "51  2021-12-02, 02:02:02.335101  56990.0\n",
      "52  2021-12-03, 19:16:11.677888  56990.0\n",
      "53  2021-12-04, 12:10:58.814560  56990.0\n"
     ]
    },
    {
     "data": {
      "image/png": "[encoded data removed]",
      "text/plain": [
       "<Figure size 432x288 with 1 Axes>"
      ]
     },
     "metadata": {
      "needs_background": "light"
     },
     "output_type": "display_data"
    }
   ],
   "source": [
    "import matplotlib.pyplot as plt\n",
    "import pandas as pd\n",
    "#from IPython .display import clear_output\n",
    "\n",
    "df = pd.read_csv(\"lappy_price.csv\")\n",
    "print(\"type of the df is : \", type(df)) #file type is Dataframe\n",
    "\n",
    "df.drop_duplicates(subset = ['Timestamp'])\n",
    "print(\"content of the sheet: \\n\", df.tail())\n",
    "\n",
    "x = df['Timestamp']\n",
    "y = df['Price']\n",
    "\n",
    "df.plot()\n",
    "#plt.xticks(rotation=90)\n",
    "#plt.xaxis_xdate()\n",
    "#plt.autofmt_xdate()\n",
    "\n",
    "plt.show()\n"
   ]
  },
  {
   "cell_type": "raw",
   "metadata": {},
   "source": [
    "#### Below code is for writing and sending the mail when prodcut price falls in user's budget \n",
    "\n",
    "def send_email():\n",
    "    server = smtplib.SMTP(\"smtp.valid.com\",587)\n",
    "    server.ehlo()\n",
    "    server.starttls()\n",
    "    server.ehlo()\n",
    "    \n",
    "    server.login('valid@valid.com', '~*~*~*~*~*')\n",
    "    \n",
    "    subject = \"It's Me! laptop price reduced below 50,000\"\n",
    "    body = \"click the link to check out the price \\n link: https://www.amazon.in/HP-Processor-Windows-Natural-14s-dq2535TU/dp/B0928NL6F3/ref=sr_1_3?crid=TDQZ7CVY7YP0&dchild=1&keywords=hp+14+2021+11th+gen+intel+core+i5+laptop&qid=1635607127&sprefix=hp+14+2021+11th+gen+intel+core+i5+laptop%2Caps%2C273&sr=8-3\"\n",
    "    msg = f\"Subject: {subject}\\n\\n\\n{body}\"\n",
    "    \n",
    "    server.sendmail('valid@valid.com','valid@valid.com',msg)\n",
    "    print(\"***** email sent *****\")\n",
    "    server.quit()"
   ]
  },
  {
   "cell_type": "code",
   "execution_count": null,
   "metadata": {},
   "outputs": [],
   "source": []
  },
  {
   "cell_type": "code",
   "execution_count": null,
   "metadata": {},
   "outputs": [],
   "source": []
  },
  {
   "cell_type": "raw",
   "metadata": {},
   "source": [
    "from autoscraper import AutoScraper"
   ]
  },
  {
   "cell_type": "raw",
   "metadata": {},
   "source": [
    "amz_url = 'https://www.amazon.in/gp/product/B08XNZD56X/ref=ox_sc_act_title_1?smid=A14CZOWI0VEHLG&th=1'\n",
    "wanted_lst = [\"₹55,990 \",\"HP 14 11th Gen Intel Core i5 Processor 14 inches HD Laptop, 8GB/512GB SSD/Windows 10/MS Office (Natural Silver/1.46Kg), 14s-dq2535TU\"]"
   ]
  },
  {
   "cell_type": "raw",
   "metadata": {},
   "source": [
    "scraper = AutoScraper()\n",
    "result = scraper.build(amz_url,wanted_lst)\n",
    "\n",
    "print(type(result))\n",
    "print(len(result))\n",
    "\n",
    "print(result)"
   ]
  },
  {
   "cell_type": "raw",
   "metadata": {},
   "source": [
    "result[0]"
   ]
  },
  {
   "cell_type": "raw",
   "metadata": {},
   "source": [
    "import pandas as pd\n",
    "\n",
    "result = scraper.get_result_similar(amz_url,grouped=True)\n",
    "print(result)\n",
    "\n",
    "df = pd.DataFrame(result)\n",
    "print(df)\n",
    "\n",
    "result.keys() #o/p: dict_keys(['rule_dhzi', 'rule_607g', 'rule_m23i'])\n",
    "res_len = len(result.keys())\n",
    "#result.items())\n",
    "\n",
    "#type(result.keys()) #o/p: dict_keys\n",
    "#first_key = list(result.items())[1][0]\n",
    "#print(first_key)\n",
    "\n",
    "#list(result.items())\n",
    "\n",
    "#j = 0\n",
    "#for i in result:\n",
    "#    if(j == 0, j <= res_len):\n",
    "#        print(' key are : ' + i)\n",
    "#        print(\"values are: \" + result.values())\n",
    "#        j = j + 1\n"
   ]
  },
  {
   "cell_type": "raw",
   "metadata": {},
   "source": [
    "#### Part of the code which doesnt work on ecommerce Amz/FK anymore\n",
    "import bs4\n",
    "import urllib.request\n",
    "\n",
    "\n",
    "url = 'https://www.amazon.in/s?rh=n%3A1375424031&fs=true&ref=lp_1375424031_sar'\n",
    "\n",
    "lappy = urllib.request.urlopen(url).read()\n",
    "soup = bs4.BeautifulSoup(lappy, \"html.parser\")\n",
    "print(soup.prettify())\n",
    "\n",
    "page = requests.get('https://www.amazon.in/HP-Processor-15-6-inch-Graphics-15s-dr3500TX/dp/B0928T6QM3/ref=sr_1_2_sspa?dchild=1&keywords=laptop&qid=1631862103&refinements=p_89%3ADell%7CHP%7CLenovo%2Cp_n_feature_thirteen_browse-bin%3A12598162031%2Cp_n_feature_browse-bin%3A1485945031%2Cp_n_feature_fourteen_browse-bin%3A2917526031%7C2917527031&rnid=7252027031&s=computers&sr=1-2-spons&psc=1&spLa=ZW5jcnlwdGVkUXVhbGlmaWVyPUEyQkU3VEI1V0dSSEFDJmVuY3J5cHRlZElkPUEwNTU2MTIxQzdVMFlWUzVSWUk5JmVuY3J5cHRlZEFkSWQ9QTAzMTE5NjkxVldUSUNQNkVFVzRNJndpZGdldE5hbWU9c3BfYXRmJmFjdGlvbj1jbGlja1JlZGlyZWN0JmRvTm90TG9nQ2xpY2s9dHJ1ZQ==')\n",
    "html_content = page.text\n",
    "\n",
    "print(html_content)\n"
   ]
  },
  {
   "cell_type": "code",
   "execution_count": null,
   "metadata": {},
   "outputs": [],
   "source": []
  }
 ],
 "metadata": {
  "kernelspec": {
   "display_name": "Python 3",
   "language": "python",
   "name": "python3"
  },
  "language_info": {
   "codemirror_mode": {
    "name": "ipython",
    "version": 3
   },
   "file_extension": ".py",
   "mimetype": "text/x-python",
   "name": "python",
   "nbconvert_exporter": "python",
   "pygments_lexer": "ipython3",
   "version": "3.8.3"
  }
 },
 "nbformat": 4,
 "nbformat_minor": 4
}
